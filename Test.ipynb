{
 "cells": [
  {
   "cell_type": "markdown",
   "id": "12a2e884-98d2-40cb-8833-43684d0d4a69",
   "metadata": {},
   "source": [
    "<H1>Data Science Tools and Ecosystem</H1>"
   ]
  },
  {
   "cell_type": "markdown",
   "id": "f77622bb-b5fc-4a6b-a0b2-671b93b8efe9",
   "metadata": {},
   "source": [
    "In this notebook, Data Science Tools and Ecosystem are summarized.\n"
   ]
  },
  {
   "cell_type": "markdown",
   "id": "93cb4036-2d66-4db7-badb-650ae1a25417",
   "metadata": {},
   "source": [
    "Some of the popular languages that Data Scientists use are:\n",
    "1. Python\n",
    "2. R\n",
    "3. C++"
   ]
  },
  {
   "cell_type": "markdown",
   "id": "96fd38a2-067e-4fea-b342-7343d8276642",
   "metadata": {},
   "source": [
    "Some of the commonly used libraries used by Data Scientists include:\n",
    "1. Matplotlib\n",
    "2. Pyplot\n",
    "3. ggplot"
   ]
  },
  {
   "cell_type": "markdown",
   "id": "6f110d81-d4e5-417c-a33f-efbcea110a44",
   "metadata": {},
   "source": [
    "Data Science Tools\n",
    "1. Matplotlib\n",
    "2. Apache Spark\n",
    "3. Tablaue"
   ]
  },
  {
   "cell_type": "markdown",
   "id": "35f5cab2-23f5-405b-b793-6b550ef57d8b",
   "metadata": {},
   "source": [
    "<H3>Below are a few examples of evaluating arithmetic expressions in Python.</H3>\n",
    "1. 2*3+6\n",
    "2. 4-2/5\n",
    "3. 9*6-7"
   ]
  },
  {
   "cell_type": "code",
   "execution_count": 16,
   "id": "6b16a0e7-51dd-46a7-be7d-5e2cd3aee56a",
   "metadata": {},
   "outputs": [
    {
     "name": "stdout",
     "output_type": "stream",
     "text": [
      "17\n"
     ]
    }
   ],
   "source": [
    "print((3*4)+5)"
   ]
  },
  {
   "cell_type": "code",
   "execution_count": 21,
   "id": "5f0e50a7-a400-49d8-b5ad-a146ca34e51a",
   "metadata": {},
   "outputs": [
    {
     "name": "stdout",
     "output_type": "stream",
     "text": [
      "3.3333333333333335\n"
     ]
    }
   ],
   "source": [
    "mins = 200\n",
    "###This will convert 200 minutes to hours by diving by 60\n",
    "print(mins/60)"
   ]
  },
  {
   "cell_type": "markdown",
   "id": "820ad8a8-3f56-4fd2-8ed2-25ded081df95",
   "metadata": {
    "jupyter": {
     "source_hidden": true
    }
   },
   "source": [
    "<H1>Objectives:</H1>\n",
    "<H4>List popular Objecives for Data Science</H4>\n",
    "1. Discover patterns and insights\n",
    "2. Build predictive models\n",
    "3. Improve decision-making"
   ]
  },
  {
   "cell_type": "markdown",
   "id": "8bd9d8ef-395f-4f23-91d5-2f014ad1e466",
   "metadata": {},
   "source": [
    "<h2>Author - BHAVYA</h2>"
   ]
  },
  {
   "cell_type": "code",
   "execution_count": null,
   "id": "4a5be598-f53f-45c1-95c9-70c6aa169021",
   "metadata": {},
   "outputs": [],
   "source": []
  }
 ],
 "metadata": {
  "kernelspec": {
   "display_name": "Python [conda env:base] *",
   "language": "python",
   "name": "conda-base-py"
  },
  "language_info": {
   "codemirror_mode": {
    "name": "ipython",
    "version": 3
   },
   "file_extension": ".py",
   "mimetype": "text/x-python",
   "name": "python",
   "nbconvert_exporter": "python",
   "pygments_lexer": "ipython3",
   "version": "3.12.7"
  }
 },
 "nbformat": 4,
 "nbformat_minor": 5
}
